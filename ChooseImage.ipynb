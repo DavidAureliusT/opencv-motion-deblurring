{
 "cells": [
  {
   "cell_type": "code",
   "execution_count": null,
   "id": "22eb5249",
   "metadata": {},
   "outputs": [],
   "source": [
    "from tkinter import *\n",
    "from tkinter import filedialog\n",
    "import os\n",
    "import tkinter as tk\n",
    "from PIL import Image, ImageTk #python3-pil.imagetk, python-3-imaging-tk\n",
    "\n",
    "def showimage():\n",
    "    fln = filedialog.askopenfilename(initialdir=os.getcwd(), title=\"Select image file\", filetype=((\"JPG File\", \"*.jpg\"), (\"PNG file\", \"*.png\"), (\"All Files\", \"*.*\")))\n",
    "    img = Image.open(fln)\n",
    "    img.thumbnail((350,350))\n",
    "    img = ImageTk.PhotoImage(img)\n",
    "    lbl.configure(image=img)\n",
    "    lbl.image = img\n",
    "    \n",
    "    \n",
    "root = Tk()\n",
    "\n",
    "frm = Frame(root)\n",
    "frm.pack(side=BOTTOM, padx=15, pady=15)\n",
    "\n",
    "lbl = Label(root)\n",
    "lbl.pack()\n",
    "\n",
    "btn = Button(frm, text=\"Browse Images\", command=showimage)\n",
    "btn.pack(side=tk.LEFT)\n",
    "\n",
    "btn2 = Button(frm,text=\"Exit\", command=lambda: exit())\n",
    "btn2.pack(side=tk.LEFT, padx=10)\n",
    "\n",
    "root.title(\"Image Browser\")\n",
    "root.geometry(\"900x350\")\n",
    "root.mainloop()\n",
    "\n"
   ]
  },
  {
   "cell_type": "code",
   "execution_count": null,
   "id": "ef3e7081",
   "metadata": {},
   "outputs": [],
   "source": []
  },
  {
   "cell_type": "code",
   "execution_count": null,
   "id": "119aedec",
   "metadata": {},
   "outputs": [],
   "source": []
  },
  {
   "cell_type": "code",
   "execution_count": null,
   "id": "12a09a4d",
   "metadata": {},
   "outputs": [],
   "source": []
  }
 ],
 "metadata": {
  "kernelspec": {
   "display_name": "Python 3",
   "language": "python",
   "name": "python3"
  },
  "language_info": {
   "codemirror_mode": {
    "name": "ipython",
    "version": 3
   },
   "file_extension": ".py",
   "mimetype": "text/x-python",
   "name": "python",
   "nbconvert_exporter": "python",
   "pygments_lexer": "ipython3",
   "version": "3.8.8"
  }
 },
 "nbformat": 4,
 "nbformat_minor": 5
}
